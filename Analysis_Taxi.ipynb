{
 "cells": [
  {
   "cell_type": "markdown",
   "id": "bdc931cd",
   "metadata": {},
   "source": [
    "# 0) Looking thought the table"
   ]
  },
  {
   "cell_type": "code",
   "execution_count": null,
   "id": "6169bb63",
   "metadata": {},
   "outputs": [],
   "source": [
    "# The data is structured as follows:\n",
    "\n",
    "# Column number | Column name           | Type | Description\n",
    "#  ------------ | :---------:           | :---------:           | ------------:\n",
    "# 0             | `'pickup_weekday'`    | categorical (ordinal) | Day of the week when the journey started (Monday = 0, Sunday = 6).\n",
    "# 1             | `'pickup_hour'`       | categorical (ordinal) | Hour when the journey started.\n",
    "# 2             | `'pickup_longitude'`  | numerical             | Longitude where the journey started.\n",
    "# 3             | `'pickup_latitude'`   | numerical             | Latitude where the journey started.\n",
    "# 4             | `'dropoff_longitude'` | numerical             | Longitude where the journey ended.\n",
    "# 5             | `'pickup_latitude'`   | numerical             | Latitude where the journey ended.\n",
    "# 6             | `'passenger_count'`   | categorical (ordinal) | Number of passengers in the car. This is manually recorded.\n",
    "# 7             | `'trip_distance'`     | numerical             | Journey distance in miles.\n",
    "# 8             | `'fare_amount'`       | numerical             | Amount on the meter based on duration and distance.\n",
    "# 9             | `'tip_amount'`        | numerical             | Tip given on card payments (0.00 if payment made in cash).\n",
    "# 10            | `'tolls_amount'`      | numerical             | Tolls incurred.\n",
    "# 11            | `'payment_type'`      | categorical (nominal) | Payment type (1 = credit card, 2 = cash, 3 = no fee, 4 = dispute)."
   ]
  },
  {
   "cell_type": "markdown",
   "id": "d509de9b",
   "metadata": {},
   "source": [
    "# 1) Importing and cleaning data"
   ]
  },
  {
   "cell_type": "code",
   "execution_count": null,
   "id": "c499f906",
   "metadata": {},
   "outputs": [],
   "source": [
    "import pandas as pd\n",
    "import numpy as np\n",
    "import matplotlib.pyplot as plt\n",
    "import seaborn as sns\n",
    "import numpy as np\n",
    "%matplotlib inline\n",
    "    \n",
    "        \n",
    "jfk_max_lat   = 40.66018        \n",
    "jfk_min_lat   = 40.62666         \n",
    "jfk_max_long  = 73.76599        \n",
    "jfk_min_long  = 73.80822         \n",
    "          \n",
    "nyc_max_lat`  = 40.9176         \n",
    "nyc_min_lat`  = 40.5774         \n",
    "nyc_max_long` = -73.7004         \n",
    "nyc_min_long` = -74.15"
   ]
  },
  {
   "cell_type": "code",
   "execution_count": null,
   "id": "6a4defc1",
   "metadata": {},
   "outputs": [],
   "source": [
    "col_dtypes = {'pickup_weekday': 'int16', \n",
    "              'pickup_hour': 'int16', \n",
    "              'pickup_longitude': 'float32', \n",
    "              'pickup_latitude': 'float32', \n",
    "              'dropoff_longitude': 'float32', \n",
    "              'dropoff_latitude': 'float32', \n",
    "              'passenger_count': 'int16', \n",
    "              'trip_distance': 'float32', \n",
    "              'fare_amount': 'float32', \n",
    "              'tip_amount': 'float32', \n",
    "              'tolls_amount': 'float32', \n",
    "              'payment_type': 'int16'}\n",
    "\n",
    "df = pd.read_csv('2016_Yellow_Taxi_prepared.csv', dtype=col_dtypes)\n",
    "df.index = df.index +1\n",
    "df.head()"
   ]
  },
  {
   "cell_type": "code",
   "execution_count": null,
   "id": "e2deaf97",
   "metadata": {},
   "outputs": [],
   "source": [
    "df.describe()"
   ]
  },
  {
   "cell_type": "markdown",
   "id": "4d178ba1",
   "metadata": {},
   "source": [
    "# 2) Selecting data"
   ]
  },
  {
   "cell_type": "code",
   "execution_count": null,
   "id": "59fee0d2",
   "metadata": {},
   "outputs": [],
   "source": [
    "mask_for_pick_longitude = (df.loc[:, \"pickup_longitude\"] > nyc_max_long) | (df.loc[:, 'pickup_longitude'] < nyc_min_long)\n",
    "mask_for_pick_latitude = (df.loc[:, \"pickup_latitude\"] > nyc_max_lat) | (df.loc[:, 'pickup_latitude'] < nyc_min_lat)\n",
    "mask_for_drop_longitude = (df.loc[:, 'dropoff_longitude'] > nyc_max_long) | (df.loc[:, 'dropoff_longitude'] < nyc_min_long)\n",
    "mask_for_drop_latitude = (df.loc[:,'dropoff_latitude'] > nyc_max_lat) | (df.loc[:, 'dropoff_latitude'] < nyc_min_lat)\n",
    "\n",
    "print(sum(mask_for_pick_longitude))\n",
    "print(sum(mask_for_drop_longitude))\n",
    "\n",
    "print('--------------------------------------')\n",
    "\n",
    "print(sum(mask_for_pick_latitude))\n",
    "print(sum(mask_for_drop_latitude))\n",
    "\n",
    "count = 0\n",
    "\n",
    "mask_for_passenger = df.loc[:, 'passenger_count'] ==0\n",
    "print(sum(mask_for_passenger))\n",
    "mask_for_tip = df.loc[:, 'tip_amount'] <0\n",
    "print(sum(mask_for_tip))\n",
    "\n",
    "\n",
    "mask_for_fare = df.loc[:, 'fare_amount'] <1\n",
    "print(sum(mask_for_fare))"
   ]
  },
  {
   "cell_type": "code",
   "execution_count": null,
   "id": "843c7553",
   "metadata": {},
   "outputs": [],
   "source": [
    "df.loc[mask_for_pick_longitude, 'pickup_longitude'] = np.nan\n",
    "df.loc[mask_for_drop_latitude, 'dropoff_latitude'] = np.nan\n",
    "df.loc[mask_for_pick_latitude, 'pickup_latitude'] = np.nan\n",
    "df.loc[mask_for_drop_longitude, 'dropoff_longitude'] = np.nan\n",
    "df.loc[mask_for_passenger,'passenger_count'] = np.nan\n",
    "df.loc[mask_for_tip, 'tip_amount'] = np.nan\n",
    "df.loc[mask_for_fare, 'fare_amount'] = np.nan\n",
    "\n",
    "df.dropna(axis = 0, subset=['pickup_longitude','dropoff_latitude','pickup_latitude','dropoff_longitude', 'passenger_count','tip_amount','fare_amount'])"
   ]
  },
  {
   "cell_type": "markdown",
   "id": "e4c83931",
   "metadata": {},
   "source": [
    "# 3) Proportion of taxis from the airport"
   ]
  },
  {
   "cell_type": "code",
   "execution_count": null,
   "id": "36ca74a2",
   "metadata": {},
   "outputs": [],
   "source": [
    "jkf_max_lat = 40.66018\n",
    "jkf_min_lat = 40.62666\n",
    "jkf_max_long = -73.76599\n",
    "jkf_min_long = -73.80822\n",
    "\n",
    "mask_for_plane_longitude =(df.loc[:, \"pickup_longitude\"] <= jkf_max_long) & (df.loc[:, 'pickup_longitude'] >= jkf_min_long)\n",
    "mask_for_plane_latitude =(df.loc[:, \"pickup_latitude\"] <= jkf_max_lat) & (df.loc[:, 'pickup_latitude'] >= jkf_min_long)\n",
    "mask_plane = (mask_for_plane_latitude & mask_for_plane_longitude)\n",
    "\n",
    "proportion_JKF = (len(df.loc[mask_plane, :])/df.shape[0])*100\n",
    "print(proportion_JKF)"
   ]
  },
  {
   "cell_type": "markdown",
   "id": "2adab8b1",
   "metadata": {},
   "source": [
    "#  4) Visualizing the starting points"
   ]
  },
  {
   "cell_type": "code",
   "execution_count": null,
   "id": "285c79b1",
   "metadata": {},
   "outputs": [],
   "source": [
    "fig, ax = plt.subplots()\n",
    "df.plot(x = 'pickup_longitude', y = 'pickup_latitude', ax=ax, kind ='scatter', legend =False,alpha=0.03,\n",
    "        s=0.05,)\n",
    "\n",
    "ax.set(xlim=[-74.05, -73.75],\n",
    "       ylim=[40.60, 40.90]);\n",
    "line = ax.annotate(s = 'JKF airport',\n",
    "                  xy=[-73.775, 40.67],\n",
    "                  xytext=[-73.796, 40.70],\n",
    "                  arrowprops=dict(facecolor='black'))\n"
   ]
  },
  {
   "cell_type": "markdown",
   "id": "cadc0c6b",
   "metadata": {},
   "source": [
    "# 5) Proportion of airport taxis on each day"
   ]
  },
  {
   "cell_type": "code",
   "execution_count": null,
   "id": "7f6dec4b",
   "metadata": {},
   "outputs": [],
   "source": [
    "df_jkf = df.loc[mask_plane,:]\n",
    "df_jkf.shape\n",
    "\n",
    "journeys_day_for_airport = pd.crosstab(index = df_jkf.loc[:, 'pickup_weekday'], columns = 'count')\n",
    "journeys_day_for_all = pd.crosstab(index = df.loc[:, 'pickup_weekday'], columns = 'count')\n",
    "\n",
    "proportion_day_jkf = (journeys_day_for_airport/journeys_day_for_all)\n",
    "proportion_day_jkf.plot()"
   ]
  },
  {
   "cell_type": "markdown",
   "id": "4eb1bdf2",
   "metadata": {},
   "source": [
    "# 6) Proportion of journeys on each day of the week from all locations and those starting from the airport"
   ]
  },
  {
   "cell_type": "code",
   "execution_count": null,
   "id": "61be9b96",
   "metadata": {},
   "outputs": [],
   "source": [
    "proportion_all_day_allocation = journeys_day_for_all/df.shape[0]\n",
    "print(proportion_all_day_allocation)\n",
    "proportion_all_day_jkf = journeys_day_for_airport/df_jkf.shape[0]\n",
    "print(proportion_all_day_jkf)"
   ]
  },
  {
   "cell_type": "code",
   "execution_count": null,
   "id": "1ad8c493",
   "metadata": {},
   "outputs": [],
   "source": [
    "plt.style.use('seaborn')\n",
    "my_colors = 'rycgbmk'\n",
    "\n",
    "\n",
    "fig, ax = plt.subplots(figsize = [14,5], ncols = 2)\n",
    "first  = proportion_all_day_allocation.plot(kind = 'bar',\n",
    "                                      ax = ax[0], \n",
    "                                      color = my_colors,\n",
    "                                      title = 'Proportion of journeys per week day',\n",
    "                                      legend = False\n",
    "                                      )\n",
    "ax[0].set_xticklabels(['Mon', 'Tue', 'Wed', 'Thu', 'Fri', 'Sat', 'Sun'], rotation=0);\n",
    "ax[0].set(xlabel = 'Day of the week', ylabel = 'Proportion of journeys')\n",
    "ax[0].xaxis.set_tick_params(labelrotation=0)\n",
    "\n",
    "\n",
    "\n",
    "proportion_all_day_jkf.plot(kind = 'bar',\n",
    "                                      ax = ax[1], \n",
    "                                      title = 'Proportion of airport journeys  per week day',\n",
    "                                      legend = False,\n",
    "                                      color = my_colors\n",
    "                                      )\n",
    "ax[1].set_xticklabels(['Mon', 'Tue', 'Wed', 'Thu', 'Fri', 'Sat', 'Sun'], rotation=0);\n",
    "ax[1].set(xlabel = 'Day of the week')\n",
    "ax[0].xaxis.set_tick_params(labelrotation=0)\n",
    "fig.tight_layout()\n"
   ]
  },
  {
   "cell_type": "markdown",
   "id": "522b12f5",
   "metadata": {},
   "source": [
    "# 7) Proportion each hour for all journeys and journeys from the airport"
   ]
  },
  {
   "cell_type": "code",
   "execution_count": null,
   "id": "c8c08a73",
   "metadata": {},
   "outputs": [],
   "source": [
    "sum_of_hours = len(df.loc[:, 'pickup_hour'])\n",
    "sum_of_hours_airport = len(df_jkf.loc[:, 'pickup_hour'])\n",
    "print(sum_of_hours)\n",
    "\n",
    "proportion_hours_all = (pd.crosstab(index = df.loc[:, 'pickup_hour'], columns = 'count'))/sum_of_hours\n",
    "\n",
    "proportion_hours_airport = (pd.crosstab(index = df_jkf.loc[:, 'pickup_hour'], columns = 'count'))/sum_of_hours_airport\n",
    "\n",
    "print(proportion_hours_airport)"
   ]
  },
  {
   "cell_type": "code",
   "execution_count": null,
   "id": "be532a01",
   "metadata": {},
   "outputs": [],
   "source": [
    "\n",
    "fig = plt.style.use('grayscale')\n",
    "#sns.set_style(\"darkgrid\")\n",
    "%matplotlib inline\n",
    "\n",
    "fig, ax = plt.subplots(figsize = [14,5], ncols = 2)\n",
    "first  = proportion_hours_all.plot(   ax = ax[0], \n",
    "                                      title = 'Proportion each hour for all journeys',\n",
    "                                      legend = False,\n",
    "                                      color = 'navy'\n",
    "                                      )\n",
    "ax[0].set(xlabel = 'Hour', ylabel = 'Proportion of journeys', ylim =[0,0.08])\n",
    "ax[0].xaxis.set_tick_params(labelrotation=0)\n",
    "\n",
    "second = proportion_hours_airport.plot(ax = ax[1], \n",
    "                                      title = 'Proportion each hour for all airport',\n",
    "                                      legend = False,\n",
    "                                      color = 'navy'\n",
    "                                      )\n",
    "ax[1].set(xlabel = 'Hour', ylim = [0, 0.08])\n",
    "ax[1].xaxis.set_tick_params(labelrotation=0)\n",
    "ax[1].set_yticklabels([None]);\n",
    "fig.tight_layout()"
   ]
  }
 ],
 "metadata": {
  "kernelspec": {
   "display_name": "Python 3 (ipykernel)",
   "language": "python",
   "name": "python3"
  },
  "language_info": {
   "codemirror_mode": {
    "name": "ipython",
    "version": 3
   },
   "file_extension": ".py",
   "mimetype": "text/x-python",
   "name": "python",
   "nbconvert_exporter": "python",
   "pygments_lexer": "ipython3",
   "version": "3.8.0"
  }
 },
 "nbformat": 4,
 "nbformat_minor": 5
}
